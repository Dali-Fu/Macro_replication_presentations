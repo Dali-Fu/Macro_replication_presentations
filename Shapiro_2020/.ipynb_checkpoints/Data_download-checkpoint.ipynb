{
 "cells": [
  {
   "cell_type": "markdown",
   "id": "meaning-multimedia",
   "metadata": {},
   "source": [
    "# 1. Sentiment data"
   ]
  },
  {
   "cell_type": "code",
   "execution_count": 11,
   "id": "together-bristol",
   "metadata": {},
   "outputs": [],
   "source": [
    "import pandas as pd\n",
    "import os"
   ]
  },
  {
   "cell_type": "code",
   "execution_count": 2,
   "id": "modified-nepal",
   "metadata": {},
   "outputs": [],
   "source": [
    "url = \"https://www.frbsf.org/economic-research/indicators-data/daily-news-sentiment-index/files/news_sentiment_data.xlsx\""
   ]
  },
  {
   "cell_type": "code",
   "execution_count": 6,
   "id": "corporate-shame",
   "metadata": {},
   "outputs": [
    {
     "data": {
      "text/html": [
       "<div>\n",
       "<style scoped>\n",
       "    .dataframe tbody tr th:only-of-type {\n",
       "        vertical-align: middle;\n",
       "    }\n",
       "\n",
       "    .dataframe tbody tr th {\n",
       "        vertical-align: top;\n",
       "    }\n",
       "\n",
       "    .dataframe thead th {\n",
       "        text-align: right;\n",
       "    }\n",
       "</style>\n",
       "<table border=\"1\" class=\"dataframe\">\n",
       "  <thead>\n",
       "    <tr style=\"text-align: right;\">\n",
       "      <th></th>\n",
       "      <th>News Sentiment</th>\n",
       "    </tr>\n",
       "    <tr>\n",
       "      <th>date</th>\n",
       "      <th></th>\n",
       "    </tr>\n",
       "  </thead>\n",
       "  <tbody>\n",
       "    <tr>\n",
       "      <th>1980-01-01</th>\n",
       "      <td>-0.040147</td>\n",
       "    </tr>\n",
       "    <tr>\n",
       "      <th>1980-01-02</th>\n",
       "      <td>-0.123289</td>\n",
       "    </tr>\n",
       "    <tr>\n",
       "      <th>1980-01-03</th>\n",
       "      <td>-0.114885</td>\n",
       "    </tr>\n",
       "  </tbody>\n",
       "</table>\n",
       "</div>"
      ],
      "text/plain": [
       "            News Sentiment\n",
       "date                      \n",
       "1980-01-01       -0.040147\n",
       "1980-01-02       -0.123289\n",
       "1980-01-03       -0.114885"
      ]
     },
     "execution_count": 6,
     "metadata": {},
     "output_type": "execute_result"
    }
   ],
   "source": [
    "df = pd.read_excel(url, sheet_name=1, index_col=[0], parse_dates=[0])\n",
    "df.head(3)"
   ]
  },
  {
   "cell_type": "code",
   "execution_count": 8,
   "id": "caroline-chain",
   "metadata": {
    "scrolled": true
   },
   "outputs": [
    {
     "data": {
      "image/png": "[encoded data removed]",
      "text/plain": [
       "<Figure size 432x288 with 1 Axes>"
      ]
     },
     "metadata": {
      "needs_background": "light"
     },
     "output_type": "display_data"
    }
   ],
   "source": [
    "df.plot();"
   ]
  },
  {
   "cell_type": "code",
   "execution_count": 12,
   "id": "suitable-carnival",
   "metadata": {},
   "outputs": [],
   "source": [
    "os.mkdir('Data_output')"
   ]
  },
  {
   "cell_type": "code",
   "execution_count": 13,
   "id": "bigger-happening",
   "metadata": {},
   "outputs": [],
   "source": [
    "df.to_csv('Data_output/Shaprio_2020_data.csv')"
   ]
  },
  {
   "cell_type": "markdown",
   "id": "searching-leadership",
   "metadata": {},
   "source": [
    "# 2. Replication data"
   ]
  },
  {
   "cell_type": "code",
   "execution_count": 10,
   "id": "muslim-therapy",
   "metadata": {},
   "outputs": [],
   "source": [
    "from io import BytesIO\n",
    "from zipfile import ZipFile\n",
    "from urllib.request import urlopen"
   ]
  },
  {
   "cell_type": "code",
   "execution_count": 15,
   "id": "simple-watch",
   "metadata": {},
   "outputs": [],
   "source": [
    "files = !ls\n",
    "if 'news_sentiment_replication_code' in files:\n",
    "    pass\n",
    "else:\n",
    "    url = \"https://www.frbsf.org/economic-research/indicators-data/daily-news-sentiment-index/files/news_sentiment_replication_code.zip\"\n",
    "    resp = urlopen(url)\n",
    "    zipfile = ZipFile(BytesIO(resp.read()))\n",
    "    zipfile.extractall()"
   ]
  },
  {
   "cell_type": "markdown",
   "id": "sized-writer",
   "metadata": {},
   "source": [
    "## 2.1 Dictionary"
   ]
  },
  {
   "cell_type": "code",
   "execution_count": 16,
   "id": "moved-florence",
   "metadata": {},
   "outputs": [
    {
     "data": {
      "text/html": [
       "<div>\n",
       "<style scoped>\n",
       "    .dataframe tbody tr th:only-of-type {\n",
       "        vertical-align: middle;\n",
       "    }\n",
       "\n",
       "    .dataframe tbody tr th {\n",
       "        vertical-align: top;\n",
       "    }\n",
       "\n",
       "    .dataframe thead th {\n",
       "        text-align: right;\n",
       "    }\n",
       "</style>\n",
       "<table border=\"1\" class=\"dataframe\">\n",
       "  <thead>\n",
       "    <tr style=\"text-align: right;\">\n",
       "      <th></th>\n",
       "      <th>Word</th>\n",
       "      <th>Sequence Number</th>\n",
       "      <th>Word Count</th>\n",
       "      <th>Word Proportion</th>\n",
       "      <th>Average Proportion</th>\n",
       "      <th>Std Dev</th>\n",
       "      <th>Doc Count</th>\n",
       "      <th>Negative</th>\n",
       "      <th>Positive</th>\n",
       "      <th>Uncertainty</th>\n",
       "      <th>Litigious</th>\n",
       "      <th>Constraining</th>\n",
       "      <th>Superfluous</th>\n",
       "      <th>Interesting</th>\n",
       "      <th>Modal</th>\n",
       "      <th>Irr_Verb</th>\n",
       "      <th>Harvard_IV</th>\n",
       "      <th>Syllables</th>\n",
       "      <th>Source</th>\n",
       "    </tr>\n",
       "  </thead>\n",
       "  <tbody>\n",
       "    <tr>\n",
       "      <th>0</th>\n",
       "      <td>AARDVARK</td>\n",
       "      <td>1</td>\n",
       "      <td>275</td>\n",
       "      <td>1.600000e-08</td>\n",
       "      <td>1.310000e-08</td>\n",
       "      <td>3.670000e-06</td>\n",
       "      <td>82</td>\n",
       "      <td>0</td>\n",
       "      <td>0</td>\n",
       "      <td>0</td>\n",
       "      <td>0</td>\n",
       "      <td>0</td>\n",
       "      <td>0</td>\n",
       "      <td>0</td>\n",
       "      <td>0</td>\n",
       "      <td>0</td>\n",
       "      <td>0</td>\n",
       "      <td>2</td>\n",
       "      <td>12of12inf</td>\n",
       "    </tr>\n",
       "    <tr>\n",
       "      <th>1</th>\n",
       "      <td>AARDVARKS</td>\n",
       "      <td>2</td>\n",
       "      <td>3</td>\n",
       "      <td>1.750000e-10</td>\n",
       "      <td>1.030000e-11</td>\n",
       "      <td>1.010000e-08</td>\n",
       "      <td>1</td>\n",
       "      <td>0</td>\n",
       "      <td>0</td>\n",
       "      <td>0</td>\n",
       "      <td>0</td>\n",
       "      <td>0</td>\n",
       "      <td>0</td>\n",
       "      <td>0</td>\n",
       "      <td>0</td>\n",
       "      <td>0</td>\n",
       "      <td>0</td>\n",
       "      <td>2</td>\n",
       "      <td>12of12inf</td>\n",
       "    </tr>\n",
       "  </tbody>\n",
       "</table>\n",
       "</div>"
      ],
      "text/plain": [
       "        Word  Sequence Number Word Count  Word Proportion  Average Proportion  \\\n",
       "0   AARDVARK                1        275     1.600000e-08        1.310000e-08   \n",
       "1  AARDVARKS                2          3     1.750000e-10        1.030000e-11   \n",
       "\n",
       "        Std Dev Doc Count  Negative  Positive  Uncertainty  Litigious  \\\n",
       "0  3.670000e-06        82         0         0            0          0   \n",
       "1  1.010000e-08         1         0         0            0          0   \n",
       "\n",
       "   Constraining  Superfluous  Interesting  Modal  Irr_Verb  Harvard_IV  \\\n",
       "0             0            0            0      0         0           0   \n",
       "1             0            0            0      0         0           0   \n",
       "\n",
       "   Syllables     Source  \n",
       "0          2  12of12inf  \n",
       "1          2  12of12inf  "
      ]
     },
     "execution_count": 16,
     "metadata": {},
     "output_type": "execute_result"
    }
   ],
   "source": [
    "lm_dict = pd.read_csv('news_sentiment_replication_code/LoughranMcDonald_2016.csv')\n",
    "lm_dict.head(2)"
   ]
  },
  {
   "cell_type": "markdown",
   "id": "looking-algorithm",
   "metadata": {},
   "source": [
    "## 2.2 Vader sentences"
   ]
  },
  {
   "cell_type": "code",
   "execution_count": 17,
   "id": "marine-boston",
   "metadata": {},
   "outputs": [
    {
     "data": {
      "text/html": [
       "<div>\n",
       "<style scoped>\n",
       "    .dataframe tbody tr th:only-of-type {\n",
       "        vertical-align: middle;\n",
       "    }\n",
       "\n",
       "    .dataframe tbody tr th {\n",
       "        vertical-align: top;\n",
       "    }\n",
       "\n",
       "    .dataframe thead th {\n",
       "        text-align: right;\n",
       "    }\n",
       "</style>\n",
       "<table border=\"1\" class=\"dataframe\">\n",
       "  <thead>\n",
       "    <tr style=\"text-align: right;\">\n",
       "      <th></th>\n",
       "      <th>word</th>\n",
       "      <th>sentiment</th>\n",
       "    </tr>\n",
       "  </thead>\n",
       "  <tbody>\n",
       "    <tr>\n",
       "      <th>0</th>\n",
       "      <td>!</td>\n",
       "      <td>0.713195</td>\n",
       "    </tr>\n",
       "    <tr>\n",
       "      <th>1</th>\n",
       "      <td>#art</td>\n",
       "      <td>0.000000</td>\n",
       "    </tr>\n",
       "  </tbody>\n",
       "</table>\n",
       "</div>"
      ],
      "text/plain": [
       "   word  sentiment\n",
       "0     !   0.713195\n",
       "1  #art   0.000000"
      ]
     },
     "execution_count": 17,
     "metadata": {},
     "output_type": "execute_result"
    }
   ],
   "source": [
    "vader = pd.read_csv('news_sentiment_replication_code/ns.vader.sentences.20k.csv')\n",
    "vader.head(2)"
   ]
  },
  {
   "cell_type": "code",
   "execution_count": null,
   "id": "unexpected-adjustment",
   "metadata": {},
   "outputs": [],
   "source": []
  }
 ],
 "metadata": {
  "kernelspec": {
   "display_name": "Python [conda env:root] *",
   "language": "python",
   "name": "conda-root-py"
  },
  "language_info": {
   "codemirror_mode": {
    "name": "ipython",
    "version": 3
   },
   "file_extension": ".py",
   "mimetype": "text/x-python",
   "name": "python",
   "nbconvert_exporter": "python",
   "pygments_lexer": "ipython3",
   "version": "3.8.5"
  }
 },
 "nbformat": 4,
 "nbformat_minor": 5
}
