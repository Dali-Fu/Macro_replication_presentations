{
 "cells": [
  {
   "cell_type": "code",
   "execution_count": 1,
   "id": "regular-extreme",
   "metadata": {},
   "outputs": [],
   "source": [
    "import pandas as pd"
   ]
  },
  {
   "cell_type": "markdown",
   "id": "judicial-chick",
   "metadata": {},
   "source": [
    "# [Central Bank Communication Index](http://cbcomindex.com/index.php)\n",
    "\n",
    "\n",
    "Picault M., Renault T. (2017), Words are not all created equals : a new measure of ECB communication, Journal of International Money and Finance, 79, 136-156."
   ]
  },
  {
   "cell_type": "code",
   "execution_count": 2,
   "id": "entitled-manitoba",
   "metadata": {},
   "outputs": [],
   "source": [
    "url = 'http://cbcomindex.com/export_lexicon.csv'"
   ]
  },
  {
   "cell_type": "code",
   "execution_count": 5,
   "id": "another-chicken",
   "metadata": {},
   "outputs": [
    {
     "data": {
      "text/html": [
       "<div>\n",
       "<style scoped>\n",
       "    .dataframe tbody tr th:only-of-type {\n",
       "        vertical-align: middle;\n",
       "    }\n",
       "\n",
       "    .dataframe tbody tr th {\n",
       "        vertical-align: top;\n",
       "    }\n",
       "\n",
       "    .dataframe thead th {\n",
       "        text-align: right;\n",
       "    }\n",
       "</style>\n",
       "<table border=\"1\" class=\"dataframe\">\n",
       "  <thead>\n",
       "    <tr style=\"text-align: right;\">\n",
       "      <th></th>\n",
       "      <th>keyword</th>\n",
       "      <th>ngram</th>\n",
       "      <th>total_class</th>\n",
       "      <th>mp_acco</th>\n",
       "      <th>mp_neut</th>\n",
       "      <th>mp_rest</th>\n",
       "      <th>ec_nega</th>\n",
       "      <th>ec_neut</th>\n",
       "      <th>ec_posi</th>\n",
       "    </tr>\n",
       "  </thead>\n",
       "  <tbody>\n",
       "    <tr>\n",
       "      <th>0</th>\n",
       "      <td>ab</td>\n",
       "      <td>1</td>\n",
       "      <td>7</td>\n",
       "      <td>1.0</td>\n",
       "      <td>0.0</td>\n",
       "      <td>0.0</td>\n",
       "      <td>0.0</td>\n",
       "      <td>0.0</td>\n",
       "      <td>0.0</td>\n",
       "    </tr>\n",
       "    <tr>\n",
       "      <th>1</th>\n",
       "      <td>ab market</td>\n",
       "      <td>2</td>\n",
       "      <td>3</td>\n",
       "      <td>1.0</td>\n",
       "      <td>0.0</td>\n",
       "      <td>0.0</td>\n",
       "      <td>0.0</td>\n",
       "      <td>0.0</td>\n",
       "      <td>0.0</td>\n",
       "    </tr>\n",
       "    <tr>\n",
       "      <th>2</th>\n",
       "      <td>ab market enhanc</td>\n",
       "      <td>3</td>\n",
       "      <td>2</td>\n",
       "      <td>1.0</td>\n",
       "      <td>0.0</td>\n",
       "      <td>0.0</td>\n",
       "      <td>0.0</td>\n",
       "      <td>0.0</td>\n",
       "      <td>0.0</td>\n",
       "    </tr>\n",
       "  </tbody>\n",
       "</table>\n",
       "</div>"
      ],
      "text/plain": [
       "            keyword  ngram  total_class  mp_acco  mp_neut  mp_rest  ec_nega  \\\n",
       "0                ab      1            7      1.0      0.0      0.0      0.0   \n",
       "1         ab market      2            3      1.0      0.0      0.0      0.0   \n",
       "2  ab market enhanc      3            2      1.0      0.0      0.0      0.0   \n",
       "\n",
       "   ec_neut  ec_posi  \n",
       "0      0.0      0.0  \n",
       "1      0.0      0.0  \n",
       "2      0.0      0.0  "
      ]
     },
     "execution_count": 5,
     "metadata": {},
     "output_type": "execute_result"
    }
   ],
   "source": [
    "df = pd.read_csv(url, sep=';')\n",
    "df.head(3)"
   ]
  },
  {
   "cell_type": "code",
   "execution_count": null,
   "id": "enabling-fellowship",
   "metadata": {},
   "outputs": [],
   "source": []
  }
 ],
 "metadata": {
  "kernelspec": {
   "display_name": "Python 3",
   "language": "python",
   "name": "python3"
  },
  "language_info": {
   "codemirror_mode": {
    "name": "ipython",
    "version": 3
   },
   "file_extension": ".py",
   "mimetype": "text/x-python",
   "name": "python",
   "nbconvert_exporter": "python",
   "pygments_lexer": "ipython3",
   "version": "3.8.5"
  }
 },
 "nbformat": 4,
 "nbformat_minor": 5
}
